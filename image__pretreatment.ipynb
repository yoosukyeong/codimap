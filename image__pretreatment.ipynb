{
 "cells": [
  {
   "cell_type": "code",
   "execution_count": 1,
   "metadata": {},
   "outputs": [],
   "source": [
    "import cv2\n",
    "import numpy as np\n",
    "import pandas as pd\n",
    "import requests"
   ]
  },
  {
   "cell_type": "code",
   "execution_count": 3,
   "metadata": {},
   "outputs": [],
   "source": [
    "# 이미지 전처리 함수 호출\n",
    "\n",
    "# 1. url주소 img로 변경\n",
    "def get_normal_image(url):\n",
    "    image_nparray = np.asarray(bytearray(requests.get(url).content), dtype=np.uint8)\n",
    "    image = cv2.imdecode(image_nparray, cv2.IMREAD_COLOR)\n",
    "    return image\n",
    "\n",
    "# 2. 배경 제거 및 상품크기에 맞게 다시 자르기\n",
    "def remove_background_and_crop(image):\n",
    "    # 블러 처리 적용\n",
    "    blurred_image = cv2.GaussianBlur(image, (15, 15), 0)\n",
    "\n",
    "    # 초기 마스크 생성\n",
    "    mask = np.zeros(image.shape[:2], np.uint8)\n",
    "\n",
    "    # ROI(Region of Interest) 설정\n",
    "    rect = (10, 10, image.shape[1]-10, image.shape[0]-10)\n",
    "\n",
    "    # GrabCut 알고리즘 수행\n",
    "    bgd_model = np.zeros((1, 65), np.float64)\n",
    "    fgd_model = np.zeros((1, 65), np.float64)\n",
    "    cv2.grabCut(blurred_image, mask, rect, bgd_model, fgd_model, 5, cv2.GC_INIT_WITH_RECT)\n",
    "\n",
    "    # 마스크 수정\n",
    "    mask2 = np.where((mask == 2) | (mask == 0), 0, 1).astype('uint8')\n",
    "\n",
    "    # 이미지에 새로운 마스크 적용\n",
    "    result = blurred_image * mask2[:, :, np.newaxis]\n",
    "\n",
    "    # 좌표 구하기\n",
    "    coords = np.column_stack(np.where(mask2 == 1))\n",
    "    x_min, y_min = coords.min(axis=0)\n",
    "    x_max, y_max = coords.max(axis=0)\n",
    "\n",
    "    # 이미지 잘라내기\n",
    "    result = result[x_min:x_max, y_min:y_max]\n",
    "    \n",
    "    return result\n",
    "\n",
    "\n",
    "# 3. 정방형으로 맞추기\n",
    "def resize_and_center(image):\n",
    "    # 이미지의 가로, 세로 길이 가져오기\n",
    "    height, width = image.shape[:2]\n",
    "\n",
    "    # 더 긴 쪽의 길이를 구하기\n",
    "    max_length = max(height, width)\n",
    "\n",
    "    # 새로운 이미지 생성 (4차원)\n",
    "    new_image = np.zeros((max_length, max_length, 3), dtype=np.uint8)\n",
    "\n",
    "    # 중앙에 이미지 배치\n",
    "    y_offset = (max_length - height) // 2\n",
    "    x_offset = (max_length - width) // 2\n",
    "    new_image[y_offset:y_offset+height, x_offset:x_offset+width] = image\n",
    "\n",
    "    return new_image\n",
    "\n",
    "# 4. 150*150 크기로 변환\n",
    "def resize_image(image, target_size=(150, 150)):\n",
    "    # 이미지 리사이즈\n",
    "    resized_image = cv2.resize(image, target_size, interpolation=cv2.INTER_AREA)\n",
    "    return resized_image"
   ]
  },
  {
   "cell_type": "code",
   "execution_count": 4,
   "metadata": {},
   "outputs": [],
   "source": [
    "img1 = get_normal_image('https://image.msscdn.net/images/goods_img/20230209/3070468/3070468_16759031955428_500.jpg')\n",
    "\n",
    "cv2.imshow('img1', img1)\n",
    "cv2.waitKey(0)\n",
    "\n",
    "img1 = remove_background_and_crop(img1)\n",
    "img1 = resize_and_center(img1)\n",
    "final_img1 = resize_image(image = img1)\n",
    "cv2.imshow('final_img1', final_img1)\n",
    "cv2.waitKey(0)"
   ]
  }
 ],
 "metadata": {
  "kernelspec": {
   "display_name": "base",
   "language": "python",
   "name": "python3"
  },
  "language_info": {
   "codemirror_mode": {
    "name": "ipython",
    "version": 3
   },
   "file_extension": ".py",
   "mimetype": "text/x-python",
   "name": "python",
   "nbconvert_exporter": "python",
   "pygments_lexer": "ipython3",
   "version": "3.10.12"
  }
 },
 "nbformat": 4,
 "nbformat_minor": 2
}
